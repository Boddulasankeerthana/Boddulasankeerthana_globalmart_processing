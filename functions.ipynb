{
  "cells": [
    {
      "cell_type": "code",
      "execution_count": 3,
      "metadata": {},
      "outputs": [
        {
          "name": "stdout",
          "output_type": "stream",
          "text": [
            "Collecting requests\n",
            "  Downloading requests-2.31.0-py3-none-any.whl (62 kB)\n",
            "     ---------------------------------------- 62.6/62.6 kB 3.3 MB/s eta 0:00:00\n",
            "Collecting idna<4,>=2.5\n",
            "  Downloading idna-3.4-py3-none-any.whl (61 kB)\n",
            "     ---------------------------------------- 61.5/61.5 kB 3.4 MB/s eta 0:00:00\n",
            "Collecting urllib3<3,>=1.21.1\n",
            "  Downloading urllib3-2.0.4-py3-none-any.whl (123 kB)\n",
            "     ---------------------------------------- 123.9/123.9 kB ? eta 0:00:00\n",
            "Collecting charset-normalizer<4,>=2\n",
            "  Downloading charset_normalizer-3.2.0-cp310-cp310-win_amd64.whl (96 kB)\n",
            "     ---------------------------------------- 96.9/96.9 kB ? eta 0:00:00\n",
            "Collecting certifi>=2017.4.17\n",
            "  Downloading certifi-2023.7.22-py3-none-any.whl (158 kB)\n",
            "     ---------------------------------------- 158.3/158.3 kB ? eta 0:00:00\n",
            "Installing collected packages: urllib3, idna, charset-normalizer, certifi, requests\n",
            "Successfully installed certifi-2023.7.22 charset-normalizer-3.2.0 idna-3.4 requests-2.31.0 urllib3-2.0.4\n",
            "Note: you may need to restart the kernel to use updated packages.\n"
          ]
        },
        {
          "name": "stderr",
          "output_type": "stream",
          "text": [
            "\n",
            "[notice] A new release of pip available: 22.2.2 -> 23.2.1\n",
            "[notice] To update, run: python.exe -m pip install --upgrade pip\n"
          ]
        }
      ],
      "source": [
        "pip install requests"
      ]
    },
    {
      "cell_type": "code",
      "execution_count": 4,
      "metadata": {
        "id": "xf8IGROSNH6d"
      },
      "outputs": [],
      "source": [
        "import requests"
      ]
    },
    {
      "cell_type": "code",
      "execution_count": 5,
      "metadata": {
        "id": "P3YreY1vNPwq"
      },
      "outputs": [],
      "source": [
        "def getrecords(base_url, endpoint, headers=None, no_of_records=100, limit=30, offset=0):\n",
        "  \"\"\"Fetch the no_of_records from the API. Returns the fetched data in list\n",
        "\n",
        "  Args:\n",
        "      base_url (str): Base url of the API\n",
        "      endpoint (str): Specific Endpoint of the API\n",
        "      headers (dict, optional): headers of the API. Defaults to None.\n",
        "      no_of_records (int, optional): number of records to fetch. Defaults to 100.\n",
        "\n",
        "  Returns:\n",
        "      final_data (list): Appends the data to list and returns it\n",
        "  \"\"\"\n",
        "\n",
        "  final_data = []\n",
        "  offset = 0\n",
        "  while no_of_records!=0:\n",
        "    if no_of_records<limit:\n",
        "      response = requests.get(base_url+endpoint+f'?offset={offset}&limit={no_of_records}', headers=headers)\n",
        "      response_data = response.json()\n",
        "      final_data.extend(response_data['data'])\n",
        "      return final_data\n",
        "\n",
        "    response = requests.get(base_url+endpoint+f'?offset={offset}&limit={limit}', headers=headers)\n",
        "    response_data = response.json()\n",
        "    next_endpoint = response_data['next'] # /mentorskool/v1/sales?offset=101&limit=100\n",
        "    params = next_endpoint.split(\"?\")[1]  # offset=101&limit=100\n",
        "    offset = params.split('&')[0].split('=')[1] # 101\n",
        "    final_data.extend(response_data['data']) # len(final_data) = 100\n",
        "    no_of_records = no_of_records - limit # 500 - 100 = 400\n",
        "\n",
        "  return final_data"
      ]
    },
    {
      "cell_type": "code",
      "execution_count": 6,
      "metadata": {
        "id": "wRLQyjc6NZgg"
      },
      "outputs": [],
      "source": [
        "base_url = \"https://zucwflxqsxrsmwseehqvjmnx2u0cdigp.lambda-url.ap-south-1.on.aws\"\n",
        "endpoint = \"/mentorskool/v1/sales\"\n",
        "headers = {\"access_token\": \"fe66583bfe5185048c66571293e0d358\"}\n",
        "data = getrecords(base_url=base_url,\n",
        "                      endpoint=endpoint,\n",
        "                      headers=headers,\n",
        "                      no_of_records=500,\n",
        "                      limit=100)"
      ]
    },
    {
      "cell_type": "code",
      "execution_count": 7,
      "metadata": {
        "colab": {
          "base_uri": "https://localhost:8080/"
        },
        "id": "ls0kpQ-cNeE-",
        "outputId": "3799de3c-f0e3-48d2-c8f9-50d6a2b1721f"
      },
      "outputs": [
        {
          "data": {
            "text/plain": [
              "500"
            ]
          },
          "execution_count": 7,
          "metadata": {},
          "output_type": "execute_result"
        }
      ],
      "source": [
        "len(data)"
      ]
    },
    {
      "cell_type": "code",
      "execution_count": 9,
      "metadata": {},
      "outputs": [
        {
          "name": "stdout",
          "output_type": "stream",
          "text": [
            "Collecting pandasNote: you may need to restart the kernel to use updated packages.\n",
            "\n",
            "  Downloading pandas-2.0.3-cp310-cp310-win_amd64.whl (10.7 MB)\n",
            "     --------------------------------------- 10.7/10.7 MB 59.4 MB/s eta 0:00:00\n",
            "Requirement already satisfied: python-dateutil>=2.8.2 in c:\\users\\administrator\\appdata\\local\\programs\\python\\python310\\lib\\site-packages (from pandas) (2.8.2)\n",
            "Collecting tzdata>=2022.1\n",
            "  Downloading tzdata-2023.3-py2.py3-none-any.whl (341 kB)\n",
            "     ------------------------------------- 341.8/341.8 kB 20.7 MB/s eta 0:00:00\n",
            "Collecting numpy>=1.21.0\n",
            "  Downloading numpy-1.25.2-cp310-cp310-win_amd64.whl (15.6 MB)\n",
            "     --------------------------------------- 15.6/15.6 MB 34.4 MB/s eta 0:00:00\n",
            "Collecting pytz>=2020.1\n",
            "  Downloading pytz-2023.3-py2.py3-none-any.whl (502 kB)\n",
            "     ------------------------------------- 502.3/502.3 kB 30.8 MB/s eta 0:00:00\n",
            "Requirement already satisfied: six>=1.5 in c:\\users\\administrator\\appdata\\local\\programs\\python\\python310\\lib\\site-packages (from python-dateutil>=2.8.2->pandas) (1.16.0)\n",
            "Installing collected packages: pytz, tzdata, numpy, pandas\n",
            "Successfully installed numpy-1.25.2 pandas-2.0.3 pytz-2023.3 tzdata-2023.3\n"
          ]
        },
        {
          "name": "stderr",
          "output_type": "stream",
          "text": [
            "\n",
            "[notice] A new release of pip available: 22.2.2 -> 23.2.1\n",
            "[notice] To update, run: python.exe -m pip install --upgrade pip\n"
          ]
        }
      ],
      "source": [
        "pip install pandas"
      ]
    },
    {
      "cell_type": "code",
      "execution_count": 10,
      "metadata": {
        "id": "j-b10nq4NhI7"
      },
      "outputs": [],
      "source": [
        "import pandas as pd"
      ]
    },
    {
      "cell_type": "code",
      "execution_count": 11,
      "metadata": {
        "id": "4Z9y_zTINjJs"
      },
      "outputs": [],
      "source": [
        "def jsonToDataframe(json_inp):\n",
        "    '''\n",
        "    Returns the sum of two decimal numbers in binary digits.\n",
        "\n",
        "    Parameters:\n",
        "        json_inp (python dict): response of the API in form of json\n",
        "\n",
        "    Returns:\n",
        "        df (Pandas dataframe): This is the dataframe that got generated by\n",
        "        parsing the json response from the API\n",
        "    '''\n",
        "\n",
        "    df = pd.json_normalize(json_inp)\n",
        "    cleaned_column_names = [x if(len(x.split('.')) == 1) else x.split('.')[-1] for x in df.columns]\n",
        "    df.columns = cleaned_column_names\n",
        "\n",
        "    return df"
      ]
    },
    {
      "cell_type": "code",
      "execution_count": 12,
      "metadata": {
        "id": "Qf3EfR7nNlhn"
      },
      "outputs": [],
      "source": [
        "sales_df = jsonToDataframe(data)"
      ]
    },
    {
      "cell_type": "code",
      "execution_count": 13,
      "metadata": {
        "colab": {
          "base_uri": "https://localhost:8080/",
          "height": 143
        },
        "id": "I80ZIjQ7Nn4-",
        "outputId": "7a14623e-f5d8-4132-d12c-601548778064"
      },
      "outputs": [
        {
          "data": {
            "text/html": [
              "<div>\n",
              "<style scoped>\n",
              "    .dataframe tbody tr th:only-of-type {\n",
              "        vertical-align: middle;\n",
              "    }\n",
              "\n",
              "    .dataframe tbody tr th {\n",
              "        vertical-align: top;\n",
              "    }\n",
              "\n",
              "    .dataframe thead th {\n",
              "        text-align: right;\n",
              "    }\n",
              "</style>\n",
              "<table border=\"1\" class=\"dataframe\">\n",
              "  <thead>\n",
              "    <tr style=\"text-align: right;\">\n",
              "      <th></th>\n",
              "      <th>id</th>\n",
              "      <th>sales_amt</th>\n",
              "      <th>qty</th>\n",
              "      <th>discount</th>\n",
              "      <th>profit_amt</th>\n",
              "      <th>order_id</th>\n",
              "      <th>ship_mode</th>\n",
              "      <th>order_status</th>\n",
              "      <th>order_purchase_date</th>\n",
              "      <th>order_approved_at</th>\n",
              "      <th>...</th>\n",
              "      <th>product_name</th>\n",
              "      <th>colors</th>\n",
              "      <th>category</th>\n",
              "      <th>sub_category</th>\n",
              "      <th>date_added</th>\n",
              "      <th>manufacturer</th>\n",
              "      <th>sizes</th>\n",
              "      <th>upc</th>\n",
              "      <th>weight</th>\n",
              "      <th>product_photos_qty</th>\n",
              "    </tr>\n",
              "  </thead>\n",
              "  <tbody>\n",
              "  </tbody>\n",
              "</table>\n",
              "<p>0 rows × 35 columns</p>\n",
              "</div>"
            ],
            "text/plain": [
              "Empty DataFrame\n",
              "Columns: [id, sales_amt, qty, discount, profit_amt, order_id, ship_mode, order_status, order_purchase_date, order_approved_at, order_delivered_carrier_date, order_delivered_customer_date, order_estimated_delivery_date, customer_id, customer_name, segment, contact_number, zip_code, region, country, city, state, VendorID, Vendor Name, product_id, product_name, colors, category, sub_category, date_added, manufacturer, sizes, upc, weight, product_photos_qty]\n",
              "Index: []\n",
              "\n",
              "[0 rows x 35 columns]"
            ]
          },
          "execution_count": 13,
          "metadata": {},
          "output_type": "execute_result"
        }
      ],
      "source": [
        "sales_df[sales_df.duplicated()]"
      ]
    },
    {
      "cell_type": "code",
      "execution_count": 14,
      "metadata": {
        "id": "h4esKiYUNqEf"
      },
      "outputs": [],
      "source": [
        "sales_df.replace(\"null\", None, inplace=True)"
      ]
    },
    {
      "cell_type": "code",
      "execution_count": 15,
      "metadata": {
        "id": "DQ9exBaINsZT"
      },
      "outputs": [],
      "source": [
        "def product_size(df, product_name):\n",
        "    sizes_list = df[df[\"product_name\"]==product_name][\"sizes\"].unique()[0]\n",
        "    if not sizes_list:\n",
        "        sizes = []\n",
        "        count_of_sizes = len(sizes)\n",
        "    else:\n",
        "        sizes = [size.strip() for size in sizes_list.split(',')]\n",
        "        count_of_sizes = len(sizes)\n",
        "    return count_of_sizes"
      ]
    },
    {
      "cell_type": "code",
      "execution_count": 16,
      "metadata": {
        "colab": {
          "base_uri": "https://localhost:8080/",
          "height": 386
        },
        "id": "M11iJKXXNzaG",
        "outputId": "0dfe0c80-0dd4-46b7-aa2e-6b9dc5d14709"
      },
      "outputs": [
        {
          "data": {
            "text/html": [
              "<div>\n",
              "<style scoped>\n",
              "    .dataframe tbody tr th:only-of-type {\n",
              "        vertical-align: middle;\n",
              "    }\n",
              "\n",
              "    .dataframe tbody tr th {\n",
              "        vertical-align: top;\n",
              "    }\n",
              "\n",
              "    .dataframe thead th {\n",
              "        text-align: right;\n",
              "    }\n",
              "</style>\n",
              "<table border=\"1\" class=\"dataframe\">\n",
              "  <thead>\n",
              "    <tr style=\"text-align: right;\">\n",
              "      <th></th>\n",
              "      <th>id</th>\n",
              "      <th>sales_amt</th>\n",
              "      <th>qty</th>\n",
              "      <th>discount</th>\n",
              "      <th>profit_amt</th>\n",
              "      <th>order_id</th>\n",
              "      <th>ship_mode</th>\n",
              "      <th>order_status</th>\n",
              "      <th>order_purchase_date</th>\n",
              "      <th>order_approved_at</th>\n",
              "      <th>...</th>\n",
              "      <th>colors</th>\n",
              "      <th>category</th>\n",
              "      <th>sub_category</th>\n",
              "      <th>date_added</th>\n",
              "      <th>manufacturer</th>\n",
              "      <th>sizes</th>\n",
              "      <th>upc</th>\n",
              "      <th>weight</th>\n",
              "      <th>product_photos_qty</th>\n",
              "      <th>no_of_sizes</th>\n",
              "    </tr>\n",
              "  </thead>\n",
              "  <tbody>\n",
              "    <tr>\n",
              "      <th>0</th>\n",
              "      <td>4102</td>\n",
              "      <td>2.0000</td>\n",
              "      <td>0</td>\n",
              "      <td>72.948</td>\n",
              "      <td>None</td>\n",
              "      <td>US-2017-102288</td>\n",
              "      <td>Standard Class</td>\n",
              "      <td>delivered</td>\n",
              "      <td>2017-11-24 15:58:00</td>\n",
              "      <td>2017-11-28 03:18</td>\n",
              "      <td>...</td>\n",
              "      <td>Blue</td>\n",
              "      <td>Office Supplies</td>\n",
              "      <td>Appliances</td>\n",
              "      <td>2017-01-17</td>\n",
              "      <td>None</td>\n",
              "      <td>7</td>\n",
              "      <td>826000000000</td>\n",
              "      <td>None</td>\n",
              "      <td>0</td>\n",
              "      <td>1</td>\n",
              "    </tr>\n",
              "    <tr>\n",
              "      <th>1</th>\n",
              "      <td>2698</td>\n",
              "      <td>261.9600</td>\n",
              "      <td>2</td>\n",
              "      <td>0.000</td>\n",
              "      <td>41.9136</td>\n",
              "      <td>CA-2014-145317</td>\n",
              "      <td>Standard Class</td>\n",
              "      <td>delivered</td>\n",
              "      <td>2018-07-11 19:46:00</td>\n",
              "      <td>2018-07-13 15:25</td>\n",
              "      <td>...</td>\n",
              "      <td>Pink</td>\n",
              "      <td>Furniture</td>\n",
              "      <td>Bookcases</td>\n",
              "      <td>2016-04-01</td>\n",
              "      <td>None</td>\n",
              "      <td>9</td>\n",
              "      <td>640000000000</td>\n",
              "      <td>None</td>\n",
              "      <td>4</td>\n",
              "      <td>1</td>\n",
              "    </tr>\n",
              "    <tr>\n",
              "      <th>2</th>\n",
              "      <td>6827</td>\n",
              "      <td>731.9400</td>\n",
              "      <td>3</td>\n",
              "      <td>0.000</td>\n",
              "      <td>219.582</td>\n",
              "      <td>CA-2016-118689</td>\n",
              "      <td>Standard Class</td>\n",
              "      <td>delivered</td>\n",
              "      <td>2018-05-15 20:24:00</td>\n",
              "      <td>2018-05-15 20:55</td>\n",
              "      <td>...</td>\n",
              "      <td>Pink</td>\n",
              "      <td>Furniture</td>\n",
              "      <td>Chairs</td>\n",
              "      <td>2016-11-04</td>\n",
              "      <td>None</td>\n",
              "      <td>10,7,6,9,8</td>\n",
              "      <td>664000000000</td>\n",
              "      <td>None</td>\n",
              "      <td>2</td>\n",
              "      <td>5</td>\n",
              "    </tr>\n",
              "    <tr>\n",
              "      <th>3</th>\n",
              "      <td>8154</td>\n",
              "      <td>14.6200</td>\n",
              "      <td>2</td>\n",
              "      <td>0.000</td>\n",
              "      <td>6.8714</td>\n",
              "      <td>CA-2017-140151</td>\n",
              "      <td>First Class</td>\n",
              "      <td>delivered</td>\n",
              "      <td>2018-02-28 13:40:00</td>\n",
              "      <td>2018-03-01 13:35</td>\n",
              "      <td>...</td>\n",
              "      <td>Pink</td>\n",
              "      <td>Office Supplies</td>\n",
              "      <td>Labels</td>\n",
              "      <td>2016-08-01</td>\n",
              "      <td>None</td>\n",
              "      <td>11.5</td>\n",
              "      <td>887000000000</td>\n",
              "      <td>None</td>\n",
              "      <td>3</td>\n",
              "      <td>1</td>\n",
              "    </tr>\n",
              "    <tr>\n",
              "      <th>4</th>\n",
              "      <td>2624</td>\n",
              "      <td>957.5775</td>\n",
              "      <td>5</td>\n",
              "      <td>0.450</td>\n",
              "      <td>-383.031</td>\n",
              "      <td>CA-2017-127180</td>\n",
              "      <td>First Class</td>\n",
              "      <td>delivered</td>\n",
              "      <td>2018-01-07 21:45:00</td>\n",
              "      <td>2018-01-07 21:57</td>\n",
              "      <td>...</td>\n",
              "      <td>Blue</td>\n",
              "      <td>Furniture</td>\n",
              "      <td>Tables</td>\n",
              "      <td>2016-11-15</td>\n",
              "      <td>None</td>\n",
              "      <td>10.5,10,8.5,8,13</td>\n",
              "      <td>888000000000</td>\n",
              "      <td>None</td>\n",
              "      <td>0</td>\n",
              "      <td>5</td>\n",
              "    </tr>\n",
              "  </tbody>\n",
              "</table>\n",
              "<p>5 rows × 36 columns</p>\n",
              "</div>"
            ],
            "text/plain": [
              "     id  sales_amt  qty  discount profit_amt        order_id       ship_mode  \\\n",
              "0  4102     2.0000    0    72.948       None  US-2017-102288  Standard Class   \n",
              "1  2698   261.9600    2     0.000    41.9136  CA-2014-145317  Standard Class   \n",
              "2  6827   731.9400    3     0.000    219.582  CA-2016-118689  Standard Class   \n",
              "3  8154    14.6200    2     0.000     6.8714  CA-2017-140151     First Class   \n",
              "4  2624   957.5775    5     0.450   -383.031  CA-2017-127180     First Class   \n",
              "\n",
              "  order_status  order_purchase_date order_approved_at  ... colors  \\\n",
              "0    delivered  2017-11-24 15:58:00  2017-11-28 03:18  ...   Blue   \n",
              "1    delivered  2018-07-11 19:46:00  2018-07-13 15:25  ...   Pink   \n",
              "2    delivered  2018-05-15 20:24:00  2018-05-15 20:55  ...   Pink   \n",
              "3    delivered  2018-02-28 13:40:00  2018-03-01 13:35  ...   Pink   \n",
              "4    delivered  2018-01-07 21:45:00  2018-01-07 21:57  ...   Blue   \n",
              "\n",
              "          category sub_category  date_added manufacturer             sizes  \\\n",
              "0  Office Supplies   Appliances  2017-01-17         None                 7   \n",
              "1        Furniture    Bookcases  2016-04-01         None                 9   \n",
              "2        Furniture       Chairs  2016-11-04         None        10,7,6,9,8   \n",
              "3  Office Supplies       Labels  2016-08-01         None              11.5   \n",
              "4        Furniture       Tables  2016-11-15         None  10.5,10,8.5,8,13   \n",
              "\n",
              "            upc  weight product_photos_qty no_of_sizes  \n",
              "0  826000000000    None                  0           1  \n",
              "1  640000000000    None                  4           1  \n",
              "2  664000000000    None                  2           5  \n",
              "3  887000000000    None                  3           1  \n",
              "4  888000000000    None                  0           5  \n",
              "\n",
              "[5 rows x 36 columns]"
            ]
          },
          "execution_count": 16,
          "metadata": {},
          "output_type": "execute_result"
        }
      ],
      "source": [
        "total_sizes = []\n",
        "for index in range(len(sales_df)):\n",
        "    product = sales_df.iloc[index][\"product_name\"]\n",
        "    sizes = product_size(sales_df, product)\n",
        "    total_sizes.append(sizes)\n",
        "\n",
        "\n",
        "sales_df[\"no_of_sizes\"] = total_sizes\n",
        "sales_df.head()"
      ]
    },
    {
      "cell_type": "code",
      "execution_count": 17,
      "metadata": {
        "colab": {
          "base_uri": "https://localhost:8080/",
          "height": 35
        },
        "id": "ZTjLp2FJN2Ra",
        "outputId": "54824da5-a3f8-440c-e0f6-a4e314419f42"
      },
      "outputs": [
        {
          "data": {
            "text/plain": [
              "'Redi-Strip #10 Envelopes, 4 1/8 x 9 1/2'"
            ]
          },
          "execution_count": 17,
          "metadata": {},
          "output_type": "execute_result"
        }
      ],
      "source": [
        "sales_df.loc[sales_df[\"no_of_sizes\"].idxmax()]['product_name']"
      ]
    },
    {
      "cell_type": "code",
      "execution_count": 18,
      "metadata": {
        "colab": {
          "base_uri": "https://localhost:8080/"
        },
        "id": "AaWat6UuN5MV",
        "outputId": "8dbd2223-e749-425a-d8f5-17bb242b79e6"
      },
      "outputs": [
        {
          "data": {
            "text/plain": [
              "8    0\n",
              "Name: no_of_sizes, dtype: int64"
            ]
          },
          "execution_count": 18,
          "metadata": {},
          "output_type": "execute_result"
        }
      ],
      "source": [
        "sales_df[sales_df['product_name']=='Mitel 5320 IP Phone VoIP phone']['no_of_sizes']"
      ]
    },
    {
      "cell_type": "code",
      "execution_count": 19,
      "metadata": {
        "id": "TJmnmLAMN8aR"
      },
      "outputs": [],
      "source": [
        "sales_df[\"order_purchase_date\"] = pd.to_datetime(sales_df[\"order_purchase_date\"])\n",
        "sales_df = sales_df.assign(month_name = lambda x: x[\"order_purchase_date\"].dt.month_name())"
      ]
    },
    {
      "cell_type": "code",
      "execution_count": 20,
      "metadata": {},
      "outputs": [
        {
          "name": "stdout",
          "output_type": "stream",
          "text": [
            "month_name         May\n",
            "sales_amt     20820.34\n",
            "Name: 8, dtype: object\n"
          ]
        }
      ],
      "source": [
        "highest_sales_df = sales_df.groupby([\"month_name\"], as_index = False)[\"sales_amt\"].sum()\n",
        "print(highest_sales_df.loc[highest_sales_df[\"sales_amt\"].idxmax()])"
      ]
    },
    {
      "cell_type": "code",
      "execution_count": 22,
      "metadata": {},
      "outputs": [
        {
          "name": "stdout",
          "output_type": "stream",
          "text": [
            "month_name        March\n",
            "profit_amt    5129.2084\n",
            "Name: 7, dtype: object\n"
          ]
        }
      ],
      "source": [
        "# Convert \"profit_amt\" column to numeric type\n",
        "sales_df[\"profit_amt\"] = pd.to_numeric(sales_df[\"profit_amt\"], errors=\"coerce\")\n",
        "\n",
        "# Group by month and calculate sum of profit\n",
        "highest_profit_df = sales_df.groupby([\"month_name\"], as_index=False)[\"profit_amt\"].sum()\n",
        "\n",
        "# Find the row with the highest profit\n",
        "max_profit_row = highest_profit_df.loc[highest_profit_df[\"profit_amt\"].idxmax()]\n",
        "\n",
        "print(max_profit_row)\n"
      ]
    },
    {
      "cell_type": "code",
      "execution_count": 23,
      "metadata": {},
      "outputs": [],
      "source": [
        "month_wise_data = sales_df.groupby(\"month_name\").agg({\"sales_amt\": sum, \"profit_amt\": sum}).reset_index()"
      ]
    },
    {
      "cell_type": "code",
      "execution_count": 24,
      "metadata": {},
      "outputs": [
        {
          "data": {
            "text/html": [
              "<div>\n",
              "<style scoped>\n",
              "    .dataframe tbody tr th:only-of-type {\n",
              "        vertical-align: middle;\n",
              "    }\n",
              "\n",
              "    .dataframe tbody tr th {\n",
              "        vertical-align: top;\n",
              "    }\n",
              "\n",
              "    .dataframe thead th {\n",
              "        text-align: right;\n",
              "    }\n",
              "</style>\n",
              "<table border=\"1\" class=\"dataframe\">\n",
              "  <thead>\n",
              "    <tr style=\"text-align: right;\">\n",
              "      <th></th>\n",
              "      <th>month_name</th>\n",
              "      <th>sales_amt</th>\n",
              "      <th>profit_amt</th>\n",
              "    </tr>\n",
              "  </thead>\n",
              "  <tbody>\n",
              "    <tr>\n",
              "      <th>0</th>\n",
              "      <td>April</td>\n",
              "      <td>3878.7690</td>\n",
              "      <td>-56.0825</td>\n",
              "    </tr>\n",
              "    <tr>\n",
              "      <th>1</th>\n",
              "      <td>August</td>\n",
              "      <td>10406.1850</td>\n",
              "      <td>-350.6432</td>\n",
              "    </tr>\n",
              "    <tr>\n",
              "      <th>2</th>\n",
              "      <td>December</td>\n",
              "      <td>14170.7800</td>\n",
              "      <td>-617.9495</td>\n",
              "    </tr>\n",
              "    <tr>\n",
              "      <th>3</th>\n",
              "      <td>February</td>\n",
              "      <td>8219.5320</td>\n",
              "      <td>1329.5155</td>\n",
              "    </tr>\n",
              "    <tr>\n",
              "      <th>4</th>\n",
              "      <td>January</td>\n",
              "      <td>16846.8305</td>\n",
              "      <td>905.8689</td>\n",
              "    </tr>\n",
              "    <tr>\n",
              "      <th>5</th>\n",
              "      <td>July</td>\n",
              "      <td>9926.4818</td>\n",
              "      <td>-84.1150</td>\n",
              "    </tr>\n",
              "    <tr>\n",
              "      <th>6</th>\n",
              "      <td>June</td>\n",
              "      <td>17143.9808</td>\n",
              "      <td>-1297.0189</td>\n",
              "    </tr>\n",
              "    <tr>\n",
              "      <th>7</th>\n",
              "      <td>March</td>\n",
              "      <td>17618.2270</td>\n",
              "      <td>5129.2084</td>\n",
              "    </tr>\n",
              "    <tr>\n",
              "      <th>8</th>\n",
              "      <td>May</td>\n",
              "      <td>20820.3400</td>\n",
              "      <td>-832.6445</td>\n",
              "    </tr>\n",
              "    <tr>\n",
              "      <th>9</th>\n",
              "      <td>November</td>\n",
              "      <td>3314.8160</td>\n",
              "      <td>365.0812</td>\n",
              "    </tr>\n",
              "    <tr>\n",
              "      <th>10</th>\n",
              "      <td>October</td>\n",
              "      <td>5692.6615</td>\n",
              "      <td>1130.7502</td>\n",
              "    </tr>\n",
              "    <tr>\n",
              "      <th>11</th>\n",
              "      <td>September</td>\n",
              "      <td>1320.4125</td>\n",
              "      <td>-281.3286</td>\n",
              "    </tr>\n",
              "  </tbody>\n",
              "</table>\n",
              "</div>"
            ],
            "text/plain": [
              "   month_name   sales_amt  profit_amt\n",
              "0       April   3878.7690    -56.0825\n",
              "1      August  10406.1850   -350.6432\n",
              "2    December  14170.7800   -617.9495\n",
              "3    February   8219.5320   1329.5155\n",
              "4     January  16846.8305    905.8689\n",
              "5        July   9926.4818    -84.1150\n",
              "6        June  17143.9808  -1297.0189\n",
              "7       March  17618.2270   5129.2084\n",
              "8         May  20820.3400   -832.6445\n",
              "9    November   3314.8160    365.0812\n",
              "10    October   5692.6615   1130.7502\n",
              "11  September   1320.4125   -281.3286"
            ]
          },
          "execution_count": 24,
          "metadata": {},
          "output_type": "execute_result"
        }
      ],
      "source": [
        "month_wise_data"
      ]
    },
    {
      "cell_type": "code",
      "execution_count": 25,
      "metadata": {},
      "outputs": [
        {
          "data": {
            "text/plain": [
              "5"
            ]
          },
          "execution_count": 25,
          "metadata": {},
          "output_type": "execute_result"
        }
      ],
      "source": [
        "# Calculate profit margin\n",
        "month_wise_data['profit_margin'] = (month_wise_data['profit_amt'] / month_wise_data['sales_amt']) * 100\n",
        "\n",
        "# Positive profit margin\n",
        "month_wise_data[month_wise_data['profit_margin'] > 0].shape[0]"
      ]
    },
    {
      "cell_type": "code",
      "execution_count": 26,
      "metadata": {},
      "outputs": [
        {
          "data": {
            "text/html": [
              "<div>\n",
              "<style scoped>\n",
              "    .dataframe tbody tr th:only-of-type {\n",
              "        vertical-align: middle;\n",
              "    }\n",
              "\n",
              "    .dataframe tbody tr th {\n",
              "        vertical-align: top;\n",
              "    }\n",
              "\n",
              "    .dataframe thead th {\n",
              "        text-align: right;\n",
              "    }\n",
              "</style>\n",
              "<table border=\"1\" class=\"dataframe\">\n",
              "  <thead>\n",
              "    <tr style=\"text-align: right;\">\n",
              "      <th></th>\n",
              "      <th>id</th>\n",
              "      <th>sales_amt</th>\n",
              "      <th>qty</th>\n",
              "      <th>discount</th>\n",
              "      <th>profit_amt</th>\n",
              "      <th>order_id</th>\n",
              "      <th>ship_mode</th>\n",
              "      <th>order_status</th>\n",
              "      <th>order_purchase_date</th>\n",
              "      <th>order_approved_at</th>\n",
              "      <th>...</th>\n",
              "      <th>sub_category</th>\n",
              "      <th>date_added</th>\n",
              "      <th>manufacturer</th>\n",
              "      <th>sizes</th>\n",
              "      <th>upc</th>\n",
              "      <th>weight</th>\n",
              "      <th>product_photos_qty</th>\n",
              "      <th>no_of_sizes</th>\n",
              "      <th>month_name</th>\n",
              "      <th>delay</th>\n",
              "    </tr>\n",
              "  </thead>\n",
              "  <tbody>\n",
              "    <tr>\n",
              "      <th>0</th>\n",
              "      <td>4102</td>\n",
              "      <td>2.0000</td>\n",
              "      <td>0</td>\n",
              "      <td>72.948</td>\n",
              "      <td>NaN</td>\n",
              "      <td>US-2017-102288</td>\n",
              "      <td>Standard Class</td>\n",
              "      <td>delivered</td>\n",
              "      <td>2017-11-24 15:58:00</td>\n",
              "      <td>2017-11-28 03:18</td>\n",
              "      <td>...</td>\n",
              "      <td>Appliances</td>\n",
              "      <td>2017-01-17</td>\n",
              "      <td>None</td>\n",
              "      <td>7</td>\n",
              "      <td>826000000000</td>\n",
              "      <td>None</td>\n",
              "      <td>0</td>\n",
              "      <td>1</td>\n",
              "      <td>November</td>\n",
              "      <td>-5</td>\n",
              "    </tr>\n",
              "    <tr>\n",
              "      <th>1</th>\n",
              "      <td>2698</td>\n",
              "      <td>261.9600</td>\n",
              "      <td>2</td>\n",
              "      <td>0.000</td>\n",
              "      <td>41.9136</td>\n",
              "      <td>CA-2014-145317</td>\n",
              "      <td>Standard Class</td>\n",
              "      <td>delivered</td>\n",
              "      <td>2018-07-11 19:46:00</td>\n",
              "      <td>2018-07-13 15:25</td>\n",
              "      <td>...</td>\n",
              "      <td>Bookcases</td>\n",
              "      <td>2016-04-01</td>\n",
              "      <td>None</td>\n",
              "      <td>9</td>\n",
              "      <td>640000000000</td>\n",
              "      <td>None</td>\n",
              "      <td>4</td>\n",
              "      <td>1</td>\n",
              "      <td>July</td>\n",
              "      <td>-2</td>\n",
              "    </tr>\n",
              "    <tr>\n",
              "      <th>2</th>\n",
              "      <td>6827</td>\n",
              "      <td>731.9400</td>\n",
              "      <td>3</td>\n",
              "      <td>0.000</td>\n",
              "      <td>219.5820</td>\n",
              "      <td>CA-2016-118689</td>\n",
              "      <td>Standard Class</td>\n",
              "      <td>delivered</td>\n",
              "      <td>2018-05-15 20:24:00</td>\n",
              "      <td>2018-05-15 20:55</td>\n",
              "      <td>...</td>\n",
              "      <td>Chairs</td>\n",
              "      <td>2016-11-04</td>\n",
              "      <td>None</td>\n",
              "      <td>10,7,6,9,8</td>\n",
              "      <td>664000000000</td>\n",
              "      <td>None</td>\n",
              "      <td>2</td>\n",
              "      <td>5</td>\n",
              "      <td>May</td>\n",
              "      <td>-13</td>\n",
              "    </tr>\n",
              "    <tr>\n",
              "      <th>3</th>\n",
              "      <td>8154</td>\n",
              "      <td>14.6200</td>\n",
              "      <td>2</td>\n",
              "      <td>0.000</td>\n",
              "      <td>6.8714</td>\n",
              "      <td>CA-2017-140151</td>\n",
              "      <td>First Class</td>\n",
              "      <td>delivered</td>\n",
              "      <td>2018-02-28 13:40:00</td>\n",
              "      <td>2018-03-01 13:35</td>\n",
              "      <td>...</td>\n",
              "      <td>Labels</td>\n",
              "      <td>2016-08-01</td>\n",
              "      <td>None</td>\n",
              "      <td>11.5</td>\n",
              "      <td>887000000000</td>\n",
              "      <td>None</td>\n",
              "      <td>3</td>\n",
              "      <td>1</td>\n",
              "      <td>February</td>\n",
              "      <td>6</td>\n",
              "    </tr>\n",
              "    <tr>\n",
              "      <th>4</th>\n",
              "      <td>2624</td>\n",
              "      <td>957.5775</td>\n",
              "      <td>5</td>\n",
              "      <td>0.450</td>\n",
              "      <td>-383.0310</td>\n",
              "      <td>CA-2017-127180</td>\n",
              "      <td>First Class</td>\n",
              "      <td>delivered</td>\n",
              "      <td>2018-01-07 21:45:00</td>\n",
              "      <td>2018-01-07 21:57</td>\n",
              "      <td>...</td>\n",
              "      <td>Tables</td>\n",
              "      <td>2016-11-15</td>\n",
              "      <td>None</td>\n",
              "      <td>10.5,10,8.5,8,13</td>\n",
              "      <td>888000000000</td>\n",
              "      <td>None</td>\n",
              "      <td>0</td>\n",
              "      <td>5</td>\n",
              "      <td>January</td>\n",
              "      <td>-7</td>\n",
              "    </tr>\n",
              "  </tbody>\n",
              "</table>\n",
              "<p>5 rows × 38 columns</p>\n",
              "</div>"
            ],
            "text/plain": [
              "     id  sales_amt  qty  discount  profit_amt        order_id       ship_mode  \\\n",
              "0  4102     2.0000    0    72.948         NaN  US-2017-102288  Standard Class   \n",
              "1  2698   261.9600    2     0.000     41.9136  CA-2014-145317  Standard Class   \n",
              "2  6827   731.9400    3     0.000    219.5820  CA-2016-118689  Standard Class   \n",
              "3  8154    14.6200    2     0.000      6.8714  CA-2017-140151     First Class   \n",
              "4  2624   957.5775    5     0.450   -383.0310  CA-2017-127180     First Class   \n",
              "\n",
              "  order_status order_purchase_date order_approved_at  ... sub_category  \\\n",
              "0    delivered 2017-11-24 15:58:00  2017-11-28 03:18  ...   Appliances   \n",
              "1    delivered 2018-07-11 19:46:00  2018-07-13 15:25  ...    Bookcases   \n",
              "2    delivered 2018-05-15 20:24:00  2018-05-15 20:55  ...       Chairs   \n",
              "3    delivered 2018-02-28 13:40:00  2018-03-01 13:35  ...       Labels   \n",
              "4    delivered 2018-01-07 21:45:00  2018-01-07 21:57  ...       Tables   \n",
              "\n",
              "   date_added manufacturer             sizes           upc weight  \\\n",
              "0  2017-01-17         None                 7  826000000000   None   \n",
              "1  2016-04-01         None                 9  640000000000   None   \n",
              "2  2016-11-04         None        10,7,6,9,8  664000000000   None   \n",
              "3  2016-08-01         None              11.5  887000000000   None   \n",
              "4  2016-11-15         None  10.5,10,8.5,8,13  888000000000   None   \n",
              "\n",
              "  product_photos_qty  no_of_sizes month_name delay  \n",
              "0                  0            1   November    -5  \n",
              "1                  4            1       July    -2  \n",
              "2                  2            5        May   -13  \n",
              "3                  3            1   February     6  \n",
              "4                  0            5    January    -7  \n",
              "\n",
              "[5 rows x 38 columns]"
            ]
          },
          "execution_count": 26,
          "metadata": {},
          "output_type": "execute_result"
        }
      ],
      "source": [
        "sales_df[\"delay\"] = ((pd.to_datetime(sales_df[\"order_delivered_customer_date\"]) - pd.to_datetime(sales_df[\"order_estimated_delivery_date\"])) / pd.Timedelta(days=1)).fillna(0).astype(int)\n",
        "sales_df.head()"
      ]
    },
    {
      "cell_type": "code",
      "execution_count": 27,
      "metadata": {},
      "outputs": [],
      "source": [
        "# Replace the delay with NaT, in the case where order_delivered_customer_date is NaT\n",
        "sales_df['delay'] = sales_df['delay'].where(sales_df['order_delivered_customer_date'].notna(), pd.NaT)"
      ]
    },
    {
      "cell_type": "code",
      "execution_count": 28,
      "metadata": {},
      "outputs": [],
      "source": [
        "# filter out the instances of NaT type\n",
        "sales_df2 = sales_df[~pd.isna(sales_df['delay'])]"
      ]
    },
    {
      "cell_type": "code",
      "execution_count": 29,
      "metadata": {},
      "outputs": [
        {
          "name": "stderr",
          "output_type": "stream",
          "text": [
            "C:\\Users\\Administrator\\AppData\\Local\\Temp\\2\\ipykernel_3324\\516371200.py:1: SettingWithCopyWarning: \n",
            "A value is trying to be set on a copy of a slice from a DataFrame.\n",
            "Try using .loc[row_indexer,col_indexer] = value instead\n",
            "\n",
            "See the caveats in the documentation: https://pandas.pydata.org/pandas-docs/stable/user_guide/indexing.html#returning-a-view-versus-a-copy\n",
            "  sales_df2[\"delay_status\"] = sales_df2[\"delay\"].apply(lambda x: \"Late\" if x>0 else \"Early\" if x<0 else \"On-time\" if x==0 else None)\n"
          ]
        },
        {
          "data": {
            "text/html": [
              "<div>\n",
              "<style scoped>\n",
              "    .dataframe tbody tr th:only-of-type {\n",
              "        vertical-align: middle;\n",
              "    }\n",
              "\n",
              "    .dataframe tbody tr th {\n",
              "        vertical-align: top;\n",
              "    }\n",
              "\n",
              "    .dataframe thead th {\n",
              "        text-align: right;\n",
              "    }\n",
              "</style>\n",
              "<table border=\"1\" class=\"dataframe\">\n",
              "  <thead>\n",
              "    <tr style=\"text-align: right;\">\n",
              "      <th></th>\n",
              "      <th>id</th>\n",
              "      <th>sales_amt</th>\n",
              "      <th>qty</th>\n",
              "      <th>discount</th>\n",
              "      <th>profit_amt</th>\n",
              "      <th>order_id</th>\n",
              "      <th>ship_mode</th>\n",
              "      <th>order_status</th>\n",
              "      <th>order_purchase_date</th>\n",
              "      <th>order_approved_at</th>\n",
              "      <th>...</th>\n",
              "      <th>date_added</th>\n",
              "      <th>manufacturer</th>\n",
              "      <th>sizes</th>\n",
              "      <th>upc</th>\n",
              "      <th>weight</th>\n",
              "      <th>product_photos_qty</th>\n",
              "      <th>no_of_sizes</th>\n",
              "      <th>month_name</th>\n",
              "      <th>delay</th>\n",
              "      <th>delay_status</th>\n",
              "    </tr>\n",
              "  </thead>\n",
              "  <tbody>\n",
              "    <tr>\n",
              "      <th>0</th>\n",
              "      <td>4102</td>\n",
              "      <td>2.0000</td>\n",
              "      <td>0</td>\n",
              "      <td>72.948</td>\n",
              "      <td>NaN</td>\n",
              "      <td>US-2017-102288</td>\n",
              "      <td>Standard Class</td>\n",
              "      <td>delivered</td>\n",
              "      <td>2017-11-24 15:58:00</td>\n",
              "      <td>2017-11-28 03:18</td>\n",
              "      <td>...</td>\n",
              "      <td>2017-01-17</td>\n",
              "      <td>None</td>\n",
              "      <td>7</td>\n",
              "      <td>826000000000</td>\n",
              "      <td>None</td>\n",
              "      <td>0</td>\n",
              "      <td>1</td>\n",
              "      <td>November</td>\n",
              "      <td>-5</td>\n",
              "      <td>Early</td>\n",
              "    </tr>\n",
              "    <tr>\n",
              "      <th>1</th>\n",
              "      <td>2698</td>\n",
              "      <td>261.9600</td>\n",
              "      <td>2</td>\n",
              "      <td>0.000</td>\n",
              "      <td>41.9136</td>\n",
              "      <td>CA-2014-145317</td>\n",
              "      <td>Standard Class</td>\n",
              "      <td>delivered</td>\n",
              "      <td>2018-07-11 19:46:00</td>\n",
              "      <td>2018-07-13 15:25</td>\n",
              "      <td>...</td>\n",
              "      <td>2016-04-01</td>\n",
              "      <td>None</td>\n",
              "      <td>9</td>\n",
              "      <td>640000000000</td>\n",
              "      <td>None</td>\n",
              "      <td>4</td>\n",
              "      <td>1</td>\n",
              "      <td>July</td>\n",
              "      <td>-2</td>\n",
              "      <td>Early</td>\n",
              "    </tr>\n",
              "    <tr>\n",
              "      <th>2</th>\n",
              "      <td>6827</td>\n",
              "      <td>731.9400</td>\n",
              "      <td>3</td>\n",
              "      <td>0.000</td>\n",
              "      <td>219.5820</td>\n",
              "      <td>CA-2016-118689</td>\n",
              "      <td>Standard Class</td>\n",
              "      <td>delivered</td>\n",
              "      <td>2018-05-15 20:24:00</td>\n",
              "      <td>2018-05-15 20:55</td>\n",
              "      <td>...</td>\n",
              "      <td>2016-11-04</td>\n",
              "      <td>None</td>\n",
              "      <td>10,7,6,9,8</td>\n",
              "      <td>664000000000</td>\n",
              "      <td>None</td>\n",
              "      <td>2</td>\n",
              "      <td>5</td>\n",
              "      <td>May</td>\n",
              "      <td>-13</td>\n",
              "      <td>Early</td>\n",
              "    </tr>\n",
              "    <tr>\n",
              "      <th>3</th>\n",
              "      <td>8154</td>\n",
              "      <td>14.6200</td>\n",
              "      <td>2</td>\n",
              "      <td>0.000</td>\n",
              "      <td>6.8714</td>\n",
              "      <td>CA-2017-140151</td>\n",
              "      <td>First Class</td>\n",
              "      <td>delivered</td>\n",
              "      <td>2018-02-28 13:40:00</td>\n",
              "      <td>2018-03-01 13:35</td>\n",
              "      <td>...</td>\n",
              "      <td>2016-08-01</td>\n",
              "      <td>None</td>\n",
              "      <td>11.5</td>\n",
              "      <td>887000000000</td>\n",
              "      <td>None</td>\n",
              "      <td>3</td>\n",
              "      <td>1</td>\n",
              "      <td>February</td>\n",
              "      <td>6</td>\n",
              "      <td>Late</td>\n",
              "    </tr>\n",
              "    <tr>\n",
              "      <th>4</th>\n",
              "      <td>2624</td>\n",
              "      <td>957.5775</td>\n",
              "      <td>5</td>\n",
              "      <td>0.450</td>\n",
              "      <td>-383.0310</td>\n",
              "      <td>CA-2017-127180</td>\n",
              "      <td>First Class</td>\n",
              "      <td>delivered</td>\n",
              "      <td>2018-01-07 21:45:00</td>\n",
              "      <td>2018-01-07 21:57</td>\n",
              "      <td>...</td>\n",
              "      <td>2016-11-15</td>\n",
              "      <td>None</td>\n",
              "      <td>10.5,10,8.5,8,13</td>\n",
              "      <td>888000000000</td>\n",
              "      <td>None</td>\n",
              "      <td>0</td>\n",
              "      <td>5</td>\n",
              "      <td>January</td>\n",
              "      <td>-7</td>\n",
              "      <td>Early</td>\n",
              "    </tr>\n",
              "  </tbody>\n",
              "</table>\n",
              "<p>5 rows × 39 columns</p>\n",
              "</div>"
            ],
            "text/plain": [
              "     id  sales_amt  qty  discount  profit_amt        order_id       ship_mode  \\\n",
              "0  4102     2.0000    0    72.948         NaN  US-2017-102288  Standard Class   \n",
              "1  2698   261.9600    2     0.000     41.9136  CA-2014-145317  Standard Class   \n",
              "2  6827   731.9400    3     0.000    219.5820  CA-2016-118689  Standard Class   \n",
              "3  8154    14.6200    2     0.000      6.8714  CA-2017-140151     First Class   \n",
              "4  2624   957.5775    5     0.450   -383.0310  CA-2017-127180     First Class   \n",
              "\n",
              "  order_status order_purchase_date order_approved_at  ...  date_added  \\\n",
              "0    delivered 2017-11-24 15:58:00  2017-11-28 03:18  ...  2017-01-17   \n",
              "1    delivered 2018-07-11 19:46:00  2018-07-13 15:25  ...  2016-04-01   \n",
              "2    delivered 2018-05-15 20:24:00  2018-05-15 20:55  ...  2016-11-04   \n",
              "3    delivered 2018-02-28 13:40:00  2018-03-01 13:35  ...  2016-08-01   \n",
              "4    delivered 2018-01-07 21:45:00  2018-01-07 21:57  ...  2016-11-15   \n",
              "\n",
              "  manufacturer             sizes           upc weight product_photos_qty  \\\n",
              "0         None                 7  826000000000   None                  0   \n",
              "1         None                 9  640000000000   None                  4   \n",
              "2         None        10,7,6,9,8  664000000000   None                  2   \n",
              "3         None              11.5  887000000000   None                  3   \n",
              "4         None  10.5,10,8.5,8,13  888000000000   None                  0   \n",
              "\n",
              "  no_of_sizes  month_name delay delay_status  \n",
              "0           1    November    -5        Early  \n",
              "1           1        July    -2        Early  \n",
              "2           5         May   -13        Early  \n",
              "3           1    February     6         Late  \n",
              "4           5     January    -7        Early  \n",
              "\n",
              "[5 rows x 39 columns]"
            ]
          },
          "execution_count": 29,
          "metadata": {},
          "output_type": "execute_result"
        }
      ],
      "source": [
        "sales_df2[\"delay_status\"] = sales_df2[\"delay\"].apply(lambda x: \"Late\" if x>0 else \"Early\" if x<0 else \"On-time\" if x==0 else None)\n",
        "sales_df2.head()"
      ]
    },
    {
      "cell_type": "code",
      "execution_count": 30,
      "metadata": {},
      "outputs": [
        {
          "data": {
            "text/plain": [
              "28"
            ]
          },
          "execution_count": 30,
          "metadata": {},
          "output_type": "execute_result"
        }
      ],
      "source": [
        "late_delivered = sales_df2[sales_df2[\"delay_status\"]==\"Late\"][\"order_id\"].unique()\n",
        "len(late_delivered)"
      ]
    },
    {
      "cell_type": "code",
      "execution_count": 31,
      "metadata": {},
      "outputs": [
        {
          "data": {
            "text/plain": [
              "VendorID\n",
              "VEN01    3\n",
              "VEN02    7\n",
              "VEN03    8\n",
              "VEN04    7\n",
              "VEN05    4\n",
              "Name: order_id, dtype: int64"
            ]
          },
          "execution_count": 31,
          "metadata": {},
          "output_type": "execute_result"
        }
      ],
      "source": [
        "sales_df2[sales_df2[\"delay_status\"]==\"Late\"].groupby(\"VendorID\")[\"order_id\"].count()"
      ]
    },
    {
      "cell_type": "code",
      "execution_count": null,
      "metadata": {},
      "outputs": [],
      "source": []
    }
  ],
  "metadata": {
    "colab": {
      "provenance": []
    },
    "kernelspec": {
      "display_name": "Python 3",
      "name": "python3"
    },
    "language_info": {
      "codemirror_mode": {
        "name": "ipython",
        "version": 3
      },
      "file_extension": ".py",
      "mimetype": "text/x-python",
      "name": "python",
      "nbconvert_exporter": "python",
      "pygments_lexer": "ipython3",
      "version": "3.10.6"
    }
  },
  "nbformat": 4,
  "nbformat_minor": 0
}
